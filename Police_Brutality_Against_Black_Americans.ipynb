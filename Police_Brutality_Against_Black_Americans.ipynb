{
  "nbformat": 4,
  "nbformat_minor": 0,
  "metadata": {
    "kernelspec": {
      "display_name": "Python 3",
      "language": "python",
      "name": "python3"
    },
    "language_info": {
      "codemirror_mode": {
        "name": "ipython",
        "version": 3
      },
      "file_extension": ".py",
      "mimetype": "text/x-python",
      "name": "python",
      "nbconvert_exporter": "python",
      "pygments_lexer": "ipython3",
      "version": "3.7.3"
    },
    "colab": {
      "name": "Police Brutality Against Black Americans.ipynb",
      "provenance": [],
      "include_colab_link": true
    }
  },
  "cells": [
    {
      "cell_type": "markdown",
      "metadata": {
        "id": "view-in-github",
        "colab_type": "text"
      },
      "source": [
        "<a href=\"https://colab.research.google.com/github/QABoahene/Data-Cleaning-Bits/blob/master/Police_Brutality_Against_Black_Americans.ipynb\" target=\"_parent\"><img src=\"https://colab.research.google.com/assets/colab-badge.svg\" alt=\"Open In Colab\"/></a>"
      ]
    },
    {
      "cell_type": "markdown",
      "metadata": {
        "id": "qdG90a58mYY_",
        "colab_type": "text"
      },
      "source": [
        "# Black Men Killed Between 2015 and 2016"
      ]
    },
    {
      "cell_type": "markdown",
      "metadata": {
        "id": "-gyAPv1pmYZA",
        "colab_type": "text"
      },
      "source": [
        "As racism and police brutality have been going hand in hand in America with people losing thier loved ones daily, I decided to get a dataset on that and explore the statistics. Sadly the readily available dataset dates between 2015 and 2016. I will be doing more searches for a better dataset and update this project or do another one. This is only for the Black race and nothing else matters at the moment. I will be CLEANING the data to have a final dataset that I can use for visualisation in Tableau. \n",
        "\n",
        "The main dataset is found here: https://data.world/data-society/fatal-police-shootings"
      ]
    },
    {
      "cell_type": "markdown",
      "metadata": {
        "id": "K-mC-DxTmYZA",
        "colab_type": "text"
      },
      "source": [
        "## Let's Begin! #BlackLivesMatter"
      ]
    },
    {
      "cell_type": "code",
      "metadata": {
        "id": "wfdQ1rIEmYZB",
        "colab_type": "code",
        "colab": {},
        "outputId": "3ef452e2-2fcd-41b7-bb3c-bd29f3f046ae"
      },
      "source": [
        "#Importing Libraries\n",
        "import pandas as pd\n",
        "import numpy as np\n",
        "policebrutality = pd.read_csv('Police Brutality Dataset.csv')\n",
        "policebrutality.sample(10)"
      ],
      "execution_count": 0,
      "outputs": [
        {
          "output_type": "execute_result",
          "data": {
            "text/html": [
              "<div>\n",
              "<style scoped>\n",
              "    .dataframe tbody tr th:only-of-type {\n",
              "        vertical-align: middle;\n",
              "    }\n",
              "\n",
              "    .dataframe tbody tr th {\n",
              "        vertical-align: top;\n",
              "    }\n",
              "\n",
              "    .dataframe thead th {\n",
              "        text-align: right;\n",
              "    }\n",
              "</style>\n",
              "<table border=\"1\" class=\"dataframe\">\n",
              "  <thead>\n",
              "    <tr style=\"text-align: right;\">\n",
              "      <th></th>\n",
              "      <th>id</th>\n",
              "      <th>name</th>\n",
              "      <th>date</th>\n",
              "      <th>manner_of_death</th>\n",
              "      <th>armed</th>\n",
              "      <th>age</th>\n",
              "      <th>gender</th>\n",
              "      <th>race</th>\n",
              "      <th>city</th>\n",
              "      <th>state</th>\n",
              "      <th>signs_of_mental_illness</th>\n",
              "      <th>threat_level</th>\n",
              "      <th>flee</th>\n",
              "      <th>body_camera</th>\n",
              "    </tr>\n",
              "  </thead>\n",
              "  <tbody>\n",
              "    <tr>\n",
              "      <th>922</th>\n",
              "      <td>1068</td>\n",
              "      <td>Derek Stokes</td>\n",
              "      <td>2015-12-08</td>\n",
              "      <td>shot</td>\n",
              "      <td>gun</td>\n",
              "      <td>33.0</td>\n",
              "      <td>M</td>\n",
              "      <td>B</td>\n",
              "      <td>Cleveland</td>\n",
              "      <td>OH</td>\n",
              "      <td>False</td>\n",
              "      <td>attack</td>\n",
              "      <td>Not fleeing</td>\n",
              "      <td>False</td>\n",
              "    </tr>\n",
              "    <tr>\n",
              "      <th>692</th>\n",
              "      <td>831</td>\n",
              "      <td>Phillip Pfleghardt</td>\n",
              "      <td>2015-09-11</td>\n",
              "      <td>shot</td>\n",
              "      <td>gun</td>\n",
              "      <td>44.0</td>\n",
              "      <td>M</td>\n",
              "      <td>W</td>\n",
              "      <td>Broomfield</td>\n",
              "      <td>CO</td>\n",
              "      <td>False</td>\n",
              "      <td>attack</td>\n",
              "      <td>Car</td>\n",
              "      <td>False</td>\n",
              "    </tr>\n",
              "    <tr>\n",
              "      <th>1715</th>\n",
              "      <td>1930</td>\n",
              "      <td>Najier Salaam</td>\n",
              "      <td>2016-09-30</td>\n",
              "      <td>shot</td>\n",
              "      <td>undetermined</td>\n",
              "      <td>18.0</td>\n",
              "      <td>M</td>\n",
              "      <td>B</td>\n",
              "      <td>Newark</td>\n",
              "      <td>NJ</td>\n",
              "      <td>False</td>\n",
              "      <td>undetermined</td>\n",
              "      <td>Not fleeing</td>\n",
              "      <td>False</td>\n",
              "    </tr>\n",
              "    <tr>\n",
              "      <th>1563</th>\n",
              "      <td>1753</td>\n",
              "      <td>Kenneth Eugene Bonanno</td>\n",
              "      <td>2016-08-01</td>\n",
              "      <td>shot</td>\n",
              "      <td>gun</td>\n",
              "      <td>67.0</td>\n",
              "      <td>M</td>\n",
              "      <td>W</td>\n",
              "      <td>Stafford</td>\n",
              "      <td>VA</td>\n",
              "      <td>False</td>\n",
              "      <td>attack</td>\n",
              "      <td>Not fleeing</td>\n",
              "      <td>False</td>\n",
              "    </tr>\n",
              "    <tr>\n",
              "      <th>955</th>\n",
              "      <td>1102</td>\n",
              "      <td>Robert L. Martinez</td>\n",
              "      <td>2015-12-18</td>\n",
              "      <td>shot</td>\n",
              "      <td>gun</td>\n",
              "      <td>58.0</td>\n",
              "      <td>M</td>\n",
              "      <td>H</td>\n",
              "      <td>Taos</td>\n",
              "      <td>NM</td>\n",
              "      <td>False</td>\n",
              "      <td>attack</td>\n",
              "      <td>Not fleeing</td>\n",
              "      <td>False</td>\n",
              "    </tr>\n",
              "    <tr>\n",
              "      <th>1848</th>\n",
              "      <td>2066</td>\n",
              "      <td>Ivory C. Pantallion</td>\n",
              "      <td>2016-11-22</td>\n",
              "      <td>shot</td>\n",
              "      <td>gun</td>\n",
              "      <td>36.0</td>\n",
              "      <td>M</td>\n",
              "      <td>NaN</td>\n",
              "      <td>Baytown</td>\n",
              "      <td>TX</td>\n",
              "      <td>False</td>\n",
              "      <td>other</td>\n",
              "      <td>Car</td>\n",
              "      <td>False</td>\n",
              "    </tr>\n",
              "    <tr>\n",
              "      <th>294</th>\n",
              "      <td>399</td>\n",
              "      <td>Santos Cortez Hernandez</td>\n",
              "      <td>2015-04-20</td>\n",
              "      <td>shot</td>\n",
              "      <td>gun</td>\n",
              "      <td>25.0</td>\n",
              "      <td>M</td>\n",
              "      <td>H</td>\n",
              "      <td>Mission</td>\n",
              "      <td>TX</td>\n",
              "      <td>False</td>\n",
              "      <td>other</td>\n",
              "      <td>Not fleeing</td>\n",
              "      <td>False</td>\n",
              "    </tr>\n",
              "    <tr>\n",
              "      <th>18</th>\n",
              "      <td>37</td>\n",
              "      <td>Thomas Hamby</td>\n",
              "      <td>2015-01-08</td>\n",
              "      <td>shot</td>\n",
              "      <td>gun</td>\n",
              "      <td>49.0</td>\n",
              "      <td>M</td>\n",
              "      <td>W</td>\n",
              "      <td>Syracuse</td>\n",
              "      <td>UT</td>\n",
              "      <td>False</td>\n",
              "      <td>attack</td>\n",
              "      <td>Not fleeing</td>\n",
              "      <td>True</td>\n",
              "    </tr>\n",
              "    <tr>\n",
              "      <th>901</th>\n",
              "      <td>1227</td>\n",
              "      <td>Fernando Sauceda</td>\n",
              "      <td>2015-11-30</td>\n",
              "      <td>shot</td>\n",
              "      <td>undetermined</td>\n",
              "      <td>31.0</td>\n",
              "      <td>M</td>\n",
              "      <td>H</td>\n",
              "      <td>Wink</td>\n",
              "      <td>TX</td>\n",
              "      <td>False</td>\n",
              "      <td>other</td>\n",
              "      <td>Not fleeing</td>\n",
              "      <td>False</td>\n",
              "    </tr>\n",
              "    <tr>\n",
              "      <th>1050</th>\n",
              "      <td>1205</td>\n",
              "      <td>Johnathan Bratcher</td>\n",
              "      <td>2016-01-27</td>\n",
              "      <td>shot</td>\n",
              "      <td>gun</td>\n",
              "      <td>32.0</td>\n",
              "      <td>M</td>\n",
              "      <td>B</td>\n",
              "      <td>Memphis</td>\n",
              "      <td>TN</td>\n",
              "      <td>False</td>\n",
              "      <td>attack</td>\n",
              "      <td>Other</td>\n",
              "      <td>True</td>\n",
              "    </tr>\n",
              "  </tbody>\n",
              "</table>\n",
              "</div>"
            ],
            "text/plain": [
              "        id                     name        date manner_of_death         armed  \\\n",
              "922   1068             Derek Stokes  2015-12-08            shot           gun   \n",
              "692    831       Phillip Pfleghardt  2015-09-11            shot           gun   \n",
              "1715  1930            Najier Salaam  2016-09-30            shot  undetermined   \n",
              "1563  1753   Kenneth Eugene Bonanno  2016-08-01            shot           gun   \n",
              "955   1102       Robert L. Martinez  2015-12-18            shot           gun   \n",
              "1848  2066      Ivory C. Pantallion  2016-11-22            shot           gun   \n",
              "294    399  Santos Cortez Hernandez  2015-04-20            shot           gun   \n",
              "18      37             Thomas Hamby  2015-01-08            shot           gun   \n",
              "901   1227         Fernando Sauceda  2015-11-30            shot  undetermined   \n",
              "1050  1205       Johnathan Bratcher  2016-01-27            shot           gun   \n",
              "\n",
              "       age gender race        city state  signs_of_mental_illness  \\\n",
              "922   33.0      M    B   Cleveland    OH                    False   \n",
              "692   44.0      M    W  Broomfield    CO                    False   \n",
              "1715  18.0      M    B      Newark    NJ                    False   \n",
              "1563  67.0      M    W    Stafford    VA                    False   \n",
              "955   58.0      M    H        Taos    NM                    False   \n",
              "1848  36.0      M  NaN     Baytown    TX                    False   \n",
              "294   25.0      M    H     Mission    TX                    False   \n",
              "18    49.0      M    W    Syracuse    UT                    False   \n",
              "901   31.0      M    H        Wink    TX                    False   \n",
              "1050  32.0      M    B     Memphis    TN                    False   \n",
              "\n",
              "      threat_level         flee  body_camera  \n",
              "922         attack  Not fleeing        False  \n",
              "692         attack          Car        False  \n",
              "1715  undetermined  Not fleeing        False  \n",
              "1563        attack  Not fleeing        False  \n",
              "955         attack  Not fleeing        False  \n",
              "1848         other          Car        False  \n",
              "294          other  Not fleeing        False  \n",
              "18          attack  Not fleeing         True  \n",
              "901          other  Not fleeing        False  \n",
              "1050        attack        Other         True  "
            ]
          },
          "metadata": {
            "tags": []
          },
          "execution_count": 48
        }
      ]
    },
    {
      "cell_type": "code",
      "metadata": {
        "id": "R6U5A3fYmYZE",
        "colab_type": "code",
        "colab": {},
        "outputId": "2417504d-5d7a-4f20-fedc-f32c1392c48f"
      },
      "source": [
        "#Checking the number of rows and columns of the data \n",
        "policebrutality.shape"
      ],
      "execution_count": 0,
      "outputs": [
        {
          "output_type": "execute_result",
          "data": {
            "text/plain": [
              "(1851, 14)"
            ]
          },
          "metadata": {
            "tags": []
          },
          "execution_count": 49
        }
      ]
    },
    {
      "cell_type": "code",
      "metadata": {
        "id": "jrQ8DT9imYZH",
        "colab_type": "code",
        "colab": {},
        "outputId": "245b018f-0157-47e8-e78b-dbcd89fcfbcb"
      },
      "source": [
        "policebrutality.info()"
      ],
      "execution_count": 0,
      "outputs": [
        {
          "output_type": "stream",
          "text": [
            "<class 'pandas.core.frame.DataFrame'>\n",
            "RangeIndex: 1851 entries, 0 to 1850\n",
            "Data columns (total 14 columns):\n",
            "id                         1851 non-null int64\n",
            "name                       1851 non-null object\n",
            "date                       1851 non-null object\n",
            "manner_of_death            1851 non-null object\n",
            "armed                      1846 non-null object\n",
            "age                        1815 non-null float64\n",
            "gender                     1851 non-null object\n",
            "race                       1710 non-null object\n",
            "city                       1851 non-null object\n",
            "state                      1851 non-null object\n",
            "signs_of_mental_illness    1851 non-null bool\n",
            "threat_level               1851 non-null object\n",
            "flee                       1828 non-null object\n",
            "body_camera                1851 non-null bool\n",
            "dtypes: bool(2), float64(1), int64(1), object(10)\n",
            "memory usage: 177.2+ KB\n"
          ],
          "name": "stdout"
        }
      ]
    },
    {
      "cell_type": "code",
      "metadata": {
        "id": "nRVwe_DImYZJ",
        "colab_type": "code",
        "colab": {},
        "outputId": "ce30adfd-68fc-4444-fa65-eef386a6ff4d"
      },
      "source": [
        "#Exploring to find the missing data so we can clean them\n",
        "policebrutality.isnull().sum()"
      ],
      "execution_count": 0,
      "outputs": [
        {
          "output_type": "execute_result",
          "data": {
            "text/plain": [
              "id                           0\n",
              "name                         0\n",
              "date                         0\n",
              "manner_of_death              0\n",
              "armed                        5\n",
              "age                         36\n",
              "gender                       0\n",
              "race                       141\n",
              "city                         0\n",
              "state                        0\n",
              "signs_of_mental_illness      0\n",
              "threat_level                 0\n",
              "flee                        23\n",
              "body_camera                  0\n",
              "dtype: int64"
            ]
          },
          "metadata": {
            "tags": []
          },
          "execution_count": 51
        }
      ]
    },
    {
      "cell_type": "code",
      "metadata": {
        "id": "xFzj87DBmYZL",
        "colab_type": "code",
        "colab": {},
        "outputId": "f1307157-719c-472b-914e-f9215d55bc69"
      },
      "source": [
        "policebrutality1 = policebrutality.dropna() #Dropping rows with null values\n",
        "policebrutality1.isnull().sum()"
      ],
      "execution_count": 0,
      "outputs": [
        {
          "output_type": "execute_result",
          "data": {
            "text/plain": [
              "id                         0\n",
              "name                       0\n",
              "date                       0\n",
              "manner_of_death            0\n",
              "armed                      0\n",
              "age                        0\n",
              "gender                     0\n",
              "race                       0\n",
              "city                       0\n",
              "state                      0\n",
              "signs_of_mental_illness    0\n",
              "threat_level               0\n",
              "flee                       0\n",
              "body_camera                0\n",
              "dtype: int64"
            ]
          },
          "metadata": {
            "tags": []
          },
          "execution_count": 53
        }
      ]
    },
    {
      "cell_type": "code",
      "metadata": {
        "id": "8IWB4Ob9mYZO",
        "colab_type": "code",
        "colab": {},
        "outputId": "3471dd6e-65d2-448b-e21b-a4472d13ffe9"
      },
      "source": [
        "policebrutality1.shape"
      ],
      "execution_count": 0,
      "outputs": [
        {
          "output_type": "execute_result",
          "data": {
            "text/plain": [
              "(1674, 14)"
            ]
          },
          "metadata": {
            "tags": []
          },
          "execution_count": 54
        }
      ]
    },
    {
      "cell_type": "code",
      "metadata": {
        "id": "BUm-WPUpmYZQ",
        "colab_type": "code",
        "colab": {},
        "outputId": "61180a31-99b8-46a0-94d7-06112e59cce1"
      },
      "source": [
        "policebrutality1.columns #I wanted to see the column names"
      ],
      "execution_count": 0,
      "outputs": [
        {
          "output_type": "execute_result",
          "data": {
            "text/plain": [
              "Index(['id', 'name', 'date', 'manner_of_death', 'armed', 'age', 'gender',\n",
              "       'race', 'city', 'state', 'signs_of_mental_illness', 'threat_level',\n",
              "       'flee', 'body_camera'],\n",
              "      dtype='object')"
            ]
          },
          "metadata": {
            "tags": []
          },
          "execution_count": 55
        }
      ]
    },
    {
      "cell_type": "markdown",
      "metadata": {
        "id": "dMLopoTomYZT",
        "colab_type": "text"
      },
      "source": [
        "# Exploring the races"
      ]
    },
    {
      "cell_type": "code",
      "metadata": {
        "id": "gJEJIJpvmYZT",
        "colab_type": "code",
        "colab": {},
        "outputId": "155dd05b-9fc1-447b-ae81-3584dad0bdea"
      },
      "source": [
        "#B is for BLACK and thats what matters\n",
        "policebrutality1['race'].unique()"
      ],
      "execution_count": 0,
      "outputs": [
        {
          "output_type": "execute_result",
          "data": {
            "text/plain": [
              "array(['A', 'W', 'H', 'B', 'O', 'N'], dtype=object)"
            ]
          },
          "metadata": {
            "tags": []
          },
          "execution_count": 56
        }
      ]
    },
    {
      "cell_type": "code",
      "metadata": {
        "id": "EOzf2MU_mYZV",
        "colab_type": "code",
        "colab": {}
      },
      "source": [
        "BlackLivesMatter = ['B']"
      ],
      "execution_count": 0,
      "outputs": []
    },
    {
      "cell_type": "code",
      "metadata": {
        "id": "bwMDmG-WmYZX",
        "colab_type": "code",
        "colab": {},
        "outputId": "2b0ad139-d3aa-4c47-b8e3-107b095defa0"
      },
      "source": [
        "blm = policebrutality1[policebrutality1['race'].isin(BlackLivesMatter)]\n",
        "blm.sample(5)"
      ],
      "execution_count": 0,
      "outputs": [
        {
          "output_type": "execute_result",
          "data": {
            "text/html": [
              "<div>\n",
              "<style scoped>\n",
              "    .dataframe tbody tr th:only-of-type {\n",
              "        vertical-align: middle;\n",
              "    }\n",
              "\n",
              "    .dataframe tbody tr th {\n",
              "        vertical-align: top;\n",
              "    }\n",
              "\n",
              "    .dataframe thead th {\n",
              "        text-align: right;\n",
              "    }\n",
              "</style>\n",
              "<table border=\"1\" class=\"dataframe\">\n",
              "  <thead>\n",
              "    <tr style=\"text-align: right;\">\n",
              "      <th></th>\n",
              "      <th>id</th>\n",
              "      <th>name</th>\n",
              "      <th>date</th>\n",
              "      <th>manner_of_death</th>\n",
              "      <th>armed</th>\n",
              "      <th>age</th>\n",
              "      <th>gender</th>\n",
              "      <th>race</th>\n",
              "      <th>city</th>\n",
              "      <th>state</th>\n",
              "      <th>signs_of_mental_illness</th>\n",
              "      <th>threat_level</th>\n",
              "      <th>flee</th>\n",
              "      <th>body_camera</th>\n",
              "    </tr>\n",
              "  </thead>\n",
              "  <tbody>\n",
              "    <tr>\n",
              "      <th>596</th>\n",
              "      <td>715</td>\n",
              "      <td>Andre Green</td>\n",
              "      <td>2015-08-09</td>\n",
              "      <td>shot</td>\n",
              "      <td>vehicle</td>\n",
              "      <td>15.0</td>\n",
              "      <td>M</td>\n",
              "      <td>B</td>\n",
              "      <td>Indianapolis</td>\n",
              "      <td>IN</td>\n",
              "      <td>False</td>\n",
              "      <td>attack</td>\n",
              "      <td>Not fleeing</td>\n",
              "      <td>False</td>\n",
              "    </tr>\n",
              "    <tr>\n",
              "      <th>26</th>\n",
              "      <td>49</td>\n",
              "      <td>Marcus Golden</td>\n",
              "      <td>2015-01-14</td>\n",
              "      <td>shot</td>\n",
              "      <td>vehicle</td>\n",
              "      <td>24.0</td>\n",
              "      <td>M</td>\n",
              "      <td>B</td>\n",
              "      <td>St. Paul</td>\n",
              "      <td>MN</td>\n",
              "      <td>False</td>\n",
              "      <td>attack</td>\n",
              "      <td>Not fleeing</td>\n",
              "      <td>False</td>\n",
              "    </tr>\n",
              "    <tr>\n",
              "      <th>912</th>\n",
              "      <td>1057</td>\n",
              "      <td>Raymone M. Davis</td>\n",
              "      <td>2015-12-04</td>\n",
              "      <td>shot</td>\n",
              "      <td>gun</td>\n",
              "      <td>21.0</td>\n",
              "      <td>M</td>\n",
              "      <td>B</td>\n",
              "      <td>Mount Washington</td>\n",
              "      <td>PA</td>\n",
              "      <td>False</td>\n",
              "      <td>attack</td>\n",
              "      <td>Not fleeing</td>\n",
              "      <td>False</td>\n",
              "    </tr>\n",
              "    <tr>\n",
              "      <th>1505</th>\n",
              "      <td>1694</td>\n",
              "      <td>Philando Castile</td>\n",
              "      <td>2016-07-06</td>\n",
              "      <td>shot</td>\n",
              "      <td>undetermined</td>\n",
              "      <td>32.0</td>\n",
              "      <td>M</td>\n",
              "      <td>B</td>\n",
              "      <td>Falcon Heights</td>\n",
              "      <td>MN</td>\n",
              "      <td>False</td>\n",
              "      <td>other</td>\n",
              "      <td>Not fleeing</td>\n",
              "      <td>False</td>\n",
              "    </tr>\n",
              "    <tr>\n",
              "      <th>1667</th>\n",
              "      <td>1879</td>\n",
              "      <td>Gregory Frazier</td>\n",
              "      <td>2016-09-09</td>\n",
              "      <td>shot</td>\n",
              "      <td>knife</td>\n",
              "      <td>55.0</td>\n",
              "      <td>M</td>\n",
              "      <td>B</td>\n",
              "      <td>Pompano Beach</td>\n",
              "      <td>FL</td>\n",
              "      <td>False</td>\n",
              "      <td>other</td>\n",
              "      <td>Not fleeing</td>\n",
              "      <td>False</td>\n",
              "    </tr>\n",
              "  </tbody>\n",
              "</table>\n",
              "</div>"
            ],
            "text/plain": [
              "        id              name        date manner_of_death         armed   age  \\\n",
              "596    715       Andre Green  2015-08-09            shot       vehicle  15.0   \n",
              "26      49     Marcus Golden  2015-01-14            shot       vehicle  24.0   \n",
              "912   1057  Raymone M. Davis  2015-12-04            shot           gun  21.0   \n",
              "1505  1694  Philando Castile  2016-07-06            shot  undetermined  32.0   \n",
              "1667  1879   Gregory Frazier  2016-09-09            shot         knife  55.0   \n",
              "\n",
              "     gender race              city state  signs_of_mental_illness  \\\n",
              "596       M    B      Indianapolis    IN                    False   \n",
              "26        M    B          St. Paul    MN                    False   \n",
              "912       M    B  Mount Washington    PA                    False   \n",
              "1505      M    B    Falcon Heights    MN                    False   \n",
              "1667      M    B     Pompano Beach    FL                    False   \n",
              "\n",
              "     threat_level         flee  body_camera  \n",
              "596        attack  Not fleeing        False  \n",
              "26         attack  Not fleeing        False  \n",
              "912        attack  Not fleeing        False  \n",
              "1505        other  Not fleeing        False  \n",
              "1667        other  Not fleeing        False  "
            ]
          },
          "metadata": {
            "tags": []
          },
          "execution_count": 58
        }
      ]
    },
    {
      "cell_type": "code",
      "metadata": {
        "id": "JB7YN5FzmYZZ",
        "colab_type": "code",
        "colab": {},
        "outputId": "30a49a7a-7645-475c-b277-1c031f1e8e73"
      },
      "source": [
        "blm.shape"
      ],
      "execution_count": 0,
      "outputs": [
        {
          "output_type": "execute_result",
          "data": {
            "text/plain": [
              "(443, 14)"
            ]
          },
          "metadata": {
            "tags": []
          },
          "execution_count": 59
        }
      ]
    },
    {
      "cell_type": "markdown",
      "metadata": {
        "id": "7LGDq5edmYZb",
        "colab_type": "text"
      },
      "source": [
        "## Exploring the Manner of death feature"
      ]
    },
    {
      "cell_type": "code",
      "metadata": {
        "id": "roIMz0GfmYZc",
        "colab_type": "code",
        "colab": {},
        "outputId": "2a400f62-6440-43a3-b5d8-e465a4f91f26"
      },
      "source": [
        "blm['manner_of_death'].unique() #Getting the unique values of the manner of death column"
      ],
      "execution_count": 0,
      "outputs": [
        {
          "output_type": "execute_result",
          "data": {
            "text/plain": [
              "array(['shot', 'shot and Tasered'], dtype=object)"
            ]
          },
          "metadata": {
            "tags": []
          },
          "execution_count": 60
        }
      ]
    },
    {
      "cell_type": "code",
      "metadata": {
        "id": "7Y71_K2dmYZd",
        "colab_type": "code",
        "colab": {},
        "outputId": "b61d0fe9-5018-4bd0-a47c-981f5a13c685"
      },
      "source": [
        "blm.groupby('manner_of_death')['manner_of_death'].agg('count') #Grouping and summing the manner of deaths"
      ],
      "execution_count": 0,
      "outputs": [
        {
          "output_type": "execute_result",
          "data": {
            "text/plain": [
              "manner_of_death\n",
              "shot                419\n",
              "shot and Tasered     24\n",
              "Name: manner_of_death, dtype: int64"
            ]
          },
          "metadata": {
            "tags": []
          },
          "execution_count": 61
        }
      ]
    },
    {
      "cell_type": "markdown",
      "metadata": {
        "id": "EcDN7-7umYZf",
        "colab_type": "text"
      },
      "source": [
        "# Exploring the armed feature"
      ]
    },
    {
      "cell_type": "code",
      "metadata": {
        "id": "sDM-TgJ_mYZg",
        "colab_type": "code",
        "colab": {},
        "outputId": "62e2ecc7-286d-4807-9da1-f8dd5ea5d95a"
      },
      "source": [
        "blm['armed'].unique()"
      ],
      "execution_count": 0,
      "outputs": [
        {
          "output_type": "execute_result",
          "data": {
            "text/plain": [
              "array(['toy weapon', 'gun', 'knife', 'unarmed', 'vehicle', 'undetermined',\n",
              "       'machete', 'hammer', 'flagpole', 'sword', 'metal hand tool',\n",
              "       'box cutter', 'chain', 'guns and explosives', 'unknown weapon',\n",
              "       'gun and knife', 'baseball bat', 'pole', 'Taser', 'ax',\n",
              "       'piece of wood', 'motorcycle'], dtype=object)"
            ]
          },
          "metadata": {
            "tags": []
          },
          "execution_count": 62
        }
      ]
    },
    {
      "cell_type": "code",
      "metadata": {
        "id": "e3SnUvD4mYZi",
        "colab_type": "code",
        "colab": {},
        "outputId": "f418dd4b-65b8-4ed2-a7e5-b5190ebe7d93"
      },
      "source": [
        "blm.groupby('armed')['armed'].agg('count')"
      ],
      "execution_count": 0,
      "outputs": [
        {
          "output_type": "execute_result",
          "data": {
            "text/plain": [
              "armed\n",
              "Taser                    1\n",
              "ax                       1\n",
              "baseball bat             2\n",
              "box cutter               2\n",
              "chain                    1\n",
              "flagpole                 1\n",
              "gun                    251\n",
              "gun and knife            1\n",
              "guns and explosives      2\n",
              "hammer                   1\n",
              "knife                   47\n",
              "machete                  3\n",
              "metal hand tool          1\n",
              "motorcycle               1\n",
              "piece of wood            1\n",
              "pole                     1\n",
              "sword                    1\n",
              "toy weapon              17\n",
              "unarmed                 52\n",
              "undetermined            21\n",
              "unknown weapon           5\n",
              "vehicle                 30\n",
              "Name: armed, dtype: int64"
            ]
          },
          "metadata": {
            "tags": []
          },
          "execution_count": 63
        }
      ]
    },
    {
      "cell_type": "code",
      "metadata": {
        "id": "iraId3WHmYZj",
        "colab_type": "code",
        "colab": {},
        "outputId": "46c0dbc6-d3de-4551-abaf-055b2de63d3c"
      },
      "source": [
        "BLM = blm.drop('id', axis = 1)\n",
        "BLM.sample(5)"
      ],
      "execution_count": 0,
      "outputs": [
        {
          "output_type": "execute_result",
          "data": {
            "text/html": [
              "<div>\n",
              "<style scoped>\n",
              "    .dataframe tbody tr th:only-of-type {\n",
              "        vertical-align: middle;\n",
              "    }\n",
              "\n",
              "    .dataframe tbody tr th {\n",
              "        vertical-align: top;\n",
              "    }\n",
              "\n",
              "    .dataframe thead th {\n",
              "        text-align: right;\n",
              "    }\n",
              "</style>\n",
              "<table border=\"1\" class=\"dataframe\">\n",
              "  <thead>\n",
              "    <tr style=\"text-align: right;\">\n",
              "      <th></th>\n",
              "      <th>name</th>\n",
              "      <th>date</th>\n",
              "      <th>manner_of_death</th>\n",
              "      <th>armed</th>\n",
              "      <th>age</th>\n",
              "      <th>gender</th>\n",
              "      <th>race</th>\n",
              "      <th>city</th>\n",
              "      <th>state</th>\n",
              "      <th>signs_of_mental_illness</th>\n",
              "      <th>threat_level</th>\n",
              "      <th>flee</th>\n",
              "      <th>body_camera</th>\n",
              "    </tr>\n",
              "  </thead>\n",
              "  <tbody>\n",
              "    <tr>\n",
              "      <th>949</th>\n",
              "      <td>Ronnie Dubose Carter</td>\n",
              "      <td>2015-12-15</td>\n",
              "      <td>shot</td>\n",
              "      <td>vehicle</td>\n",
              "      <td>51.0</td>\n",
              "      <td>M</td>\n",
              "      <td>B</td>\n",
              "      <td>Dallas</td>\n",
              "      <td>NC</td>\n",
              "      <td>False</td>\n",
              "      <td>attack</td>\n",
              "      <td>Car</td>\n",
              "      <td>False</td>\n",
              "    </tr>\n",
              "    <tr>\n",
              "      <th>319</th>\n",
              "      <td>Jared Johnson</td>\n",
              "      <td>2015-04-28</td>\n",
              "      <td>shot</td>\n",
              "      <td>gun</td>\n",
              "      <td>21.0</td>\n",
              "      <td>M</td>\n",
              "      <td>B</td>\n",
              "      <td>New Orleans</td>\n",
              "      <td>LA</td>\n",
              "      <td>False</td>\n",
              "      <td>attack</td>\n",
              "      <td>Not fleeing</td>\n",
              "      <td>True</td>\n",
              "    </tr>\n",
              "    <tr>\n",
              "      <th>226</th>\n",
              "      <td>Jeremy Lorenza Kelly</td>\n",
              "      <td>2015-03-25</td>\n",
              "      <td>shot</td>\n",
              "      <td>gun</td>\n",
              "      <td>27.0</td>\n",
              "      <td>M</td>\n",
              "      <td>B</td>\n",
              "      <td>Johnsonville</td>\n",
              "      <td>SC</td>\n",
              "      <td>False</td>\n",
              "      <td>attack</td>\n",
              "      <td>Foot</td>\n",
              "      <td>False</td>\n",
              "    </tr>\n",
              "    <tr>\n",
              "      <th>700</th>\n",
              "      <td>Tyrone Bass</td>\n",
              "      <td>2015-09-15</td>\n",
              "      <td>shot</td>\n",
              "      <td>unknown weapon</td>\n",
              "      <td>21.0</td>\n",
              "      <td>M</td>\n",
              "      <td>B</td>\n",
              "      <td>Chalmette</td>\n",
              "      <td>LA</td>\n",
              "      <td>False</td>\n",
              "      <td>attack</td>\n",
              "      <td>Not fleeing</td>\n",
              "      <td>False</td>\n",
              "    </tr>\n",
              "    <tr>\n",
              "      <th>1301</th>\n",
              "      <td>Demarcus Semer</td>\n",
              "      <td>2016-04-23</td>\n",
              "      <td>shot</td>\n",
              "      <td>vehicle</td>\n",
              "      <td>21.0</td>\n",
              "      <td>M</td>\n",
              "      <td>B</td>\n",
              "      <td>Fort Pierce</td>\n",
              "      <td>FL</td>\n",
              "      <td>False</td>\n",
              "      <td>attack</td>\n",
              "      <td>Car</td>\n",
              "      <td>False</td>\n",
              "    </tr>\n",
              "  </tbody>\n",
              "</table>\n",
              "</div>"
            ],
            "text/plain": [
              "                      name        date manner_of_death           armed   age  \\\n",
              "949   Ronnie Dubose Carter  2015-12-15            shot         vehicle  51.0   \n",
              "319          Jared Johnson  2015-04-28            shot             gun  21.0   \n",
              "226   Jeremy Lorenza Kelly  2015-03-25            shot             gun  27.0   \n",
              "700            Tyrone Bass  2015-09-15            shot  unknown weapon  21.0   \n",
              "1301        Demarcus Semer  2016-04-23            shot         vehicle  21.0   \n",
              "\n",
              "     gender race          city state  signs_of_mental_illness threat_level  \\\n",
              "949       M    B        Dallas    NC                    False       attack   \n",
              "319       M    B   New Orleans    LA                    False       attack   \n",
              "226       M    B  Johnsonville    SC                    False       attack   \n",
              "700       M    B     Chalmette    LA                    False       attack   \n",
              "1301      M    B   Fort Pierce    FL                    False       attack   \n",
              "\n",
              "             flee  body_camera  \n",
              "949           Car        False  \n",
              "319   Not fleeing         True  \n",
              "226          Foot        False  \n",
              "700   Not fleeing        False  \n",
              "1301          Car        False  "
            ]
          },
          "metadata": {
            "tags": []
          },
          "execution_count": 73
        }
      ]
    },
    {
      "cell_type": "code",
      "metadata": {
        "id": "o4qXqSATmYZl",
        "colab_type": "code",
        "colab": {},
        "outputId": "18aad36f-5509-4527-f3f4-e95b9493ac80"
      },
      "source": [
        "BLM['flee'].unique()"
      ],
      "execution_count": 0,
      "outputs": [
        {
          "output_type": "execute_result",
          "data": {
            "text/plain": [
              "array(['Not fleeing', 'Foot', 'Car', 'Other'], dtype=object)"
            ]
          },
          "metadata": {
            "tags": []
          },
          "execution_count": 75
        }
      ]
    },
    {
      "cell_type": "code",
      "metadata": {
        "id": "FUNrP-gzmYZn",
        "colab_type": "code",
        "colab": {},
        "outputId": "a92a2489-30a4-49f3-f2e0-57768302524e"
      },
      "source": [
        "blm.groupby('flee')['flee'].agg('count')"
      ],
      "execution_count": 0,
      "outputs": [
        {
          "output_type": "execute_result",
          "data": {
            "text/plain": [
              "flee\n",
              "Car             64\n",
              "Foot            87\n",
              "Not fleeing    279\n",
              "Other           13\n",
              "Name: flee, dtype: int64"
            ]
          },
          "metadata": {
            "tags": []
          },
          "execution_count": 76
        }
      ]
    },
    {
      "cell_type": "markdown",
      "metadata": {
        "id": "Y4BliuKQmYZp",
        "colab_type": "text"
      },
      "source": [
        "I have what I need to start my project. If you're seeing this now, I will upload a link to the Tableau Dashboard when it is finished. "
      ]
    },
    {
      "cell_type": "code",
      "metadata": {
        "id": "8ATvzKmamYZp",
        "colab_type": "code",
        "colab": {}
      },
      "source": [
        "BLM.to_csv('BlackLivesMatter.csv', index = False, header = True)"
      ],
      "execution_count": 0,
      "outputs": []
    }
  ]
}